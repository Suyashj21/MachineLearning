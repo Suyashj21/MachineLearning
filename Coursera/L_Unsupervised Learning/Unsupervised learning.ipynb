{
 "cells": [
  {
   "cell_type": "code",
   "execution_count": null,
   "metadata": {},
   "outputs": [],
   "source": [
    "# https://towardsdatascience.com/unsupervised-learning-and-data-clustering-eeecb78b422a\n",
    "# Check this link for Real life example: https://medium.com/machine-learning-for-humans/unsupervised-learning-f45587588294\n",
    "\n",
    "\n",
    "Unsupervised Learning: \n",
    "In some pattern recognition problems, the training data consists of a set of input vectors x without any corresponding \n",
    "target values. The goal in such unsupervised learning problems may be to discover groups of similar examples within \n",
    "the data, where it is called clustering, or to determine how the data is distributed in the space, \n",
    "known as density estimation.\n",
    "\n",
    "Type of unsupervised learning:\n",
    "    \n",
    "1. Parametric Unsupervised Learning\n",
    "\n",
    "2. Non-parametric Unsupervised Learning\n",
    "\n",
    "Note: Also, while clustering it is not advised to normalize data that are drawn from multiple distributions.\n",
    "\n",
    "Distance-based clustering\n",
    "Proximity Measures\n",
    "\n",
    "#Clustering algorithms may be classified as listed below:--\n",
    "1.Exclusive Clustering\n",
    "2.Overlapping Clustering\n",
    "3.Hierarchical Clustering\n",
    "4.Probabilistic Clustering\n",
    "\n"
   ]
  },
  {
   "cell_type": "code",
   "execution_count": 4,
   "metadata": {},
   "outputs": [
    {
     "name": "stdout",
     "output_type": "stream",
     "text": [
      "My name is  11\n"
     ]
    }
   ],
   "source": [
    "class person:\n",
    "    def __init__(self, name, age):\n",
    "        self.name = name\n",
    "        self.age = age\n",
    "        \n",
    "    def test(self):\n",
    "        print(\"My name is \",self.name)\n",
    "        \n",
    "        \n",
    "p1 = person(11,23)\n",
    "p1.test()"
   ]
  },
  {
   "cell_type": "code",
   "execution_count": null,
   "metadata": {},
   "outputs": [],
   "source": [
    "sys.path.append(glob.glob('../carla/dist/carla-*%d.%d-%s.egg' % (\n",
    "        sys.version_info.major,\n",
    "        sys.version_info.minor,\n",
    "        'win-amd64' if os.name == 'nt' else 'linux-x86_64'))[0])"
   ]
  }
 ],
 "metadata": {
  "kernelspec": {
   "display_name": "Python 3",
   "language": "python",
   "name": "python3"
  },
  "language_info": {
   "codemirror_mode": {
    "name": "ipython",
    "version": 3
   },
   "file_extension": ".py",
   "mimetype": "text/x-python",
   "name": "python",
   "nbconvert_exporter": "python",
   "pygments_lexer": "ipython3",
   "version": "3.7.4"
  }
 },
 "nbformat": 4,
 "nbformat_minor": 2
}
