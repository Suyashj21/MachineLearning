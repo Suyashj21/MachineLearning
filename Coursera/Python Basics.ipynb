{
 "cells": [
  {
   "cell_type": "code",
   "execution_count": null,
   "metadata": {},
   "outputs": [],
   "source": [
    "# https://www.learnpython.org/"
   ]
  },
  {
   "cell_type": "code",
   "execution_count": null,
   "metadata": {},
   "outputs": [],
   "source": [
    "myfloat = 7.0\n",
    "print(myfloat)\n",
    "myfloat = float(7)\n",
    "print(myfloat)"
   ]
  },
  {
   "cell_type": "code",
   "execution_count": null,
   "metadata": {},
   "outputs": [],
   "source": [
    "a, b = 3, 4\n",
    "print(a,b)"
   ]
  },
  {
   "cell_type": "code",
   "execution_count": null,
   "metadata": {},
   "outputs": [],
   "source": [
    "mystring = \"hello\"\n",
    "myfloat = 10.0\n",
    "myint = 20\n",
    "\n",
    "# testing code\n",
    "if mystring == \"hello\":\n",
    "    print(\"String: %s\" % mystring)\n",
    "if isinstance(myfloat, float) and myfloat == 10.0:\n",
    "    print(\"Float: %f\" % myfloat)\n",
    "if isinstance(myint, int) and myint == 20:\n",
    "    print(\"Integer: %d\" % myint)"
   ]
  },
  {
   "cell_type": "code",
   "execution_count": null,
   "metadata": {},
   "outputs": [],
   "source": [
    "#Lists are very similar to arrays. They can contain any type of variable, and they can contain as many variables as you wish.\n",
    "#Lists can also be iterated over in a very simple manner. Here is an example of how to build a list.\n",
    "\n",
    "mylist = []\n",
    "mylist.append(1)\n",
    "mylist.append(2)\n",
    "mylist.append(3)\n",
    "print(mylist[0]) # prints 1\n",
    "print(mylist[1]) # prints 2\n",
    "print(mylist[2]) # prints 3\n",
    "\n",
    "# prints out 1,2,3\n",
    "for x in mylist:\n",
    "    print(x)"
   ]
  },
  {
   "cell_type": "code",
   "execution_count": 19,
   "metadata": {},
   "outputs": [],
   "source": [
    "mylist = [1,2,3]\n",
    "names = [\"John\", \"Eric\", \"Jessica\"]\n",
    "new_list = mylist + names\n",
    "print(\"aaa: %s\"% new_list)"
   ]
  },
  {
   "cell_type": "code",
   "execution_count": null,
   "metadata": {},
   "outputs": [],
   "source": [
    "number = 1 + 2 * 3 / 4.0\n",
    "print(number)\n",
    "\n",
    "remainder = 11 % 3\n",
    "print(remainder)\n",
    "\n",
    "squared = 7 ** 2\n",
    "cubed = 2 ** 3\n",
    "print(squared)\n",
    "print(cubed)\n",
    "\n",
    "lotsofhellos = \"hello\" * 10\n",
    "print(lotsofhellos)\n",
    "\n",
    "print([1,2,3] * 3)"
   ]
  },
  {
   "cell_type": "code",
   "execution_count": null,
   "metadata": {},
   "outputs": [],
   "source": [
    "# he \"%\" operator is used to format a set of variables enclosed in a \"tuple\" (a fixed size list), together with a format string, which contains normal text together with \"argument specifiers\", special symbols like \"%s\" and \"%d\".\n",
    "# %s - String (or any object with a string representation, like numbers)\n",
    "# %d - Integers\n",
    "# %f - Floating point numbers\n",
    "# %.<number of digits>f - Floating point numbers with a fixed amount of digits to the right of the dot.\n",
    "# %x/%X - Integers in hex representation (lowercase/uppercase)\n",
    "\n",
    "name = \"John\"\n",
    "age = 23\n",
    "print(\"%s is %d years old.\" % (name, age))\n",
    "\n",
    "mylist = [1,2,3]\n",
    "print(\"A list: %s\" % mylist)\n",
    "\n",
    "data = (\"John\", \"Doe\", 53.44)\n",
    "print(\"Hello %s %s, your current balance is $%.2f\" % data)"
   ]
  },
  {
   "cell_type": "code",
   "execution_count": null,
   "metadata": {},
   "outputs": [],
   "source": [
    "astring = \"Hello world!\"\n",
    "print(len(astring))\n",
    "print(\"string length is %s \"% len(astring))\n",
    "print(astring.index(\"o\"))\n",
    "\n",
    "astring = \"Hello world!\"\n",
    "print(astring[3:7])\n",
    "\n",
    "#  The general form is [start:stop:step]\n",
    "astring = \"abcdefgh!\"\n",
    "print(astring[3:7:2])\n",
    "\n",
    "# you can easily reverse a string like this\n",
    "astring = \"Hello world!\"\n",
    "print(astring[::-1])\n",
    "\n",
    "astring = \"Hello world!\"\n",
    "print(astring.upper())\n",
    "print(astring.lower())  \n",
    "\n",
    "astring = \"Hello world!\"\n",
    "print(astring.startswith(\"Hello\"))   # Result: True\n",
    "print(astring.endswith(\"asdfasdfasdf\"))   # Result: False\n",
    "\n",
    "astring = \"Hello world!\"\n",
    "afewwords = astring.split(\" \")   # Result: ['Hello', 'world!']"
   ]
  },
  {
   "cell_type": "code",
   "execution_count": null,
   "metadata": {},
   "outputs": [],
   "source": [
    "# Python uses boolean variables to evaluate conditions. \n",
    "# The boolean values True and False are returned when an expression is compared or evaluated.\n",
    "x = 2\n",
    "print(x == 2) # prints out True\n",
    "print(x == 3) # prints out False\n",
    "print(x < 3) # prints out True"
   ]
  },
  {
   "cell_type": "code",
   "execution_count": null,
   "metadata": {},
   "outputs": [],
   "source": [
    "# variable assignment is done using a single equals operator \"=\", whereas comparison between two variables is \n",
    "# done using the double equals operator \"==\". The \"not equals\" operator is marked as \"!=\".\n",
    "name = \"John\"\n",
    "age = 23\n",
    "\n",
    "if name == \"John\" and age == 23:\n",
    "    print(\"get the answer\")\n",
    "else:\n",
    "    print(1)\n",
    "\n",
    "if name == \"John\" or name == \"Loki\":\n",
    "    print(\"got the name\")\n",
    "    \n",
    "if name is \"John\":\n",
    "    print(\"Doga\")\n",
    "    \n",
    "if name in [\"John\",\"bb\"]:\n",
    "    print(1)\n",
    "\n",
    "print(not False) # Prints out True\n",
    "print((not False) == (False)) # Prints out False"
   ]
  },
  {
   "cell_type": "code",
   "execution_count": null,
   "metadata": {},
   "outputs": [],
   "source": [
    "import numpy as np\n",
    "aa = np.random.randint(2, size=(10, 1))  # 2 is presenting no of values type, size is presenting list size. rows=10, col=1"
   ]
  },
  {
   "cell_type": "code",
   "execution_count": 3,
   "metadata": {},
   "outputs": [],
   "source": [
    "#The \"for\" loop\n",
    "aa = [1,2,3,4,5]\n",
    "for i in aa:\n",
    "    print(aa)\n",
    "    \n",
    "for i in range(1,10,2):\n",
    "    print(i)\n",
    "\n",
    "#-------------------------------\n",
    "# \"while\" loops\n",
    "i = 0\n",
    "while i <5:\n",
    "    print(i)\n",
    "    i += 1\n",
    "\n",
    "\n",
    "i = 0\n",
    "while True:\n",
    "    print(i)\n",
    "    i += 1\n",
    "    if i >= 5:\n",
    "        break\n",
    "\n",
    "        \n",
    "for x in range(10):\n",
    "    if x%2 == 0:\n",
    "        continue\n",
    "    print(x)\n",
    "\n",
    "    \n",
    "i = 0\n",
    "while i < 5:\n",
    "    print(i)\n",
    "    i += 1\n",
    "else:\n",
    "    print(\"reached the limit\")\n",
    "    \n",
    "    \n",
    "\n",
    "for i in range(1,10):\n",
    "    if i%9 == 0:\n",
    "        break\n",
    "    print(i)\n",
    "else:\n",
    "    print(\"loop is terminated\")"
   ]
  },
  {
   "cell_type": "code",
   "execution_count": null,
   "metadata": {},
   "outputs": [],
   "source": [
    "#Functions\n",
    "def test_function():\n",
    "    print(\"First function Print\")\n",
    "\n",
    "    \n",
    "def test_function(aa,bb):\n",
    "    print(\"%s is First function of %s for Print\"%(aa,bb))\n",
    "    \n",
    "    \n",
    "def sum_function(a,b):\n",
    "    return a+b\n",
    "x = sum_function(2,3)\n",
    "print(x)"
   ]
  },
  {
   "cell_type": "code",
   "execution_count": 39,
   "metadata": {},
   "outputs": [],
   "source": [
    "# Classes and Objects\n",
    "class myclass:\n",
    "    vari = \"test\"\n",
    "    \n",
    "    def x_function(aa):\n",
    "        print(\"This is %s test for class\"%aa)\n",
    "        \n",
    "# print(myclass.vari)\n",
    "# myclass.x_function(12)\n",
    "# to update the variable : myclass.vari = \"tata\"\n"
   ]
  },
  {
   "cell_type": "code",
   "execution_count": null,
   "metadata": {},
   "outputs": [],
   "source": [
    "#Dictionaries \n",
    "phonebook = {}\n",
    "phonebook[\"John\"] = 938477566\n",
    "phonebook[\"Jack\"] = 938377264\n",
    "phonebook[\"Jill\"] = 947662781\n",
    "print(phonebook)\n",
    "\n",
    "\n",
    "phonebook = {\n",
    "    \"John\" : 938477566,\n",
    "    \"Jack\" : 938377264,\n",
    "    \"Jill\" : 947662781\n",
    "}\n",
    "print(phonebook)\n",
    "\n",
    "phonebook = {\n",
    "    \"John\" : 938477566,\n",
    "    \"Jack\" : 938377264,\n",
    "    \"Jill\" : 947662781\n",
    "}\n",
    "\n",
    "for name, item in phonebook.items():\n",
    "    print(\"here we printing %s and his phone no %s\" %(name,item))\n",
    "    \n",
    "    \n",
    "phonebook = {\n",
    "   \"John\" : 938477566,\n",
    "   \"Jack\" : 938377264,\n",
    "   \"Jill\" : 947662781\n",
    "}\n",
    "del phonebook[\"John\"]\n",
    "print(phonebook)\n",
    "\n",
    "\n",
    "phonebook = {\n",
    "   \"John\" : 938477566,\n",
    "   \"Jack\" : 938377264,\n",
    "   \"Jill\" : 947662781\n",
    "}\n",
    "x = phonebook.pop(\"John\")\n",
    "print(phonebook)\n",
    "print(x)"
   ]
  },
  {
   "cell_type": "code",
   "execution_count": null,
   "metadata": {},
   "outputs": [],
   "source": [
    "#https://www.learnpython.org/en/Modules_and_Packages"
   ]
  },
  {
   "cell_type": "markdown",
   "metadata": {},
   "source": [
    "# delete below code:------------------"
   ]
  },
  {
   "cell_type": "code",
   "execution_count": null,
   "metadata": {},
   "outputs": [],
   "source": []
  },
  {
   "cell_type": "code",
   "execution_count": 1,
   "metadata": {},
   "outputs": [],
   "source": [
    "import numpy as np\n",
    "import tensorflow as tf"
   ]
  },
  {
   "cell_type": "code",
   "execution_count": 10,
   "metadata": {},
   "outputs": [
    {
     "ename": "TypeError",
     "evalue": "minimize() missing 1 required positional argument: 'var_list'",
     "output_type": "error",
     "traceback": [
      "\u001b[1;31m---------------------------------------------------------------------------\u001b[0m",
      "\u001b[1;31mTypeError\u001b[0m                                 Traceback (most recent call last)",
      "\u001b[1;32m<ipython-input-10-7cdb2d443a30>\u001b[0m in \u001b[0;36m<module>\u001b[1;34m\u001b[0m\n\u001b[0;32m      3\u001b[0m \u001b[1;33m\u001b[0m\u001b[0m\n\u001b[0;32m      4\u001b[0m \u001b[0moptimizer\u001b[0m\u001b[1;33m=\u001b[0m\u001b[0mtf\u001b[0m\u001b[1;33m.\u001b[0m\u001b[0moptimizers\u001b[0m\u001b[1;33m.\u001b[0m\u001b[0mSGD\u001b[0m\u001b[1;33m(\u001b[0m\u001b[1;36m0.01\u001b[0m\u001b[1;33m)\u001b[0m\u001b[1;33m\u001b[0m\u001b[1;33m\u001b[0m\u001b[0m\n\u001b[1;32m----> 5\u001b[1;33m \u001b[0mtrain\u001b[0m\u001b[1;33m=\u001b[0m\u001b[0moptimizer\u001b[0m\u001b[1;33m.\u001b[0m\u001b[0mminimize\u001b[0m\u001b[1;33m(\u001b[0m\u001b[0mcost\u001b[0m\u001b[1;33m)\u001b[0m\u001b[1;33m\u001b[0m\u001b[1;33m\u001b[0m\u001b[0m\n\u001b[0m\u001b[0;32m      6\u001b[0m \u001b[1;33m\u001b[0m\u001b[0m\n\u001b[0;32m      7\u001b[0m \u001b[0minit\u001b[0m \u001b[1;33m=\u001b[0m \u001b[0mtf\u001b[0m\u001b[1;33m.\u001b[0m\u001b[0mgloabl_variables_initializer\u001b[0m\u001b[1;33m(\u001b[0m\u001b[1;33m)\u001b[0m\u001b[1;33m\u001b[0m\u001b[1;33m\u001b[0m\u001b[0m\n",
      "\u001b[1;31mTypeError\u001b[0m: minimize() missing 1 required positional argument: 'var_list'"
     ]
    }
   ],
   "source": [
    "w = tf.Variable(0, dtype=tf.float32)\n",
    "cost = w**2 - 10*w + 25\n",
    "\n",
    "optimizer=tf.optimizers.SGD(0.01)\n",
    "train=optimizer.minimize(cost)\n",
    "\n",
    "init = tf.gloabl_variables_initializer()\n",
    "session = tf.Session()\n",
    "session.run(inti)\n",
    "print(session.run(w))"
   ]
  },
  {
   "cell_type": "code",
   "execution_count": null,
   "metadata": {},
   "outputs": [],
   "source": []
  }
 ],
 "metadata": {
  "kernelspec": {
   "display_name": "Python 3",
   "language": "python",
   "name": "python3"
  },
  "language_info": {
   "codemirror_mode": {
    "name": "ipython",
    "version": 3
   },
   "file_extension": ".py",
   "mimetype": "text/x-python",
   "name": "python",
   "nbconvert_exporter": "python",
   "pygments_lexer": "ipython3",
   "version": "3.7.4"
  }
 },
 "nbformat": 4,
 "nbformat_minor": 2
}
