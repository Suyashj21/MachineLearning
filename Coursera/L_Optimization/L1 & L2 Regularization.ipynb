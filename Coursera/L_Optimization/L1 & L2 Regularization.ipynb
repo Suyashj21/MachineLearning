{
 "cells": [
  {
   "cell_type": "code",
   "execution_count": null,
   "metadata": {},
   "outputs": [],
   "source": [
    "/*\n",
    "A regression model that uses L1 regularization technique is called Lasso Regression and model \n",
    "which uses L2 is called Ridge Regression.\n",
    "Ridge regression adds “squared magnitude” of coefficient as penalty term to the loss function.\n",
    "Lasso Regression (Least Absolute Shrinkage and Selection Operator) adds “absolute value of magnitude” of coefficient \n",
    "as penalty term to the loss function.\n",
    "\n",
    "The key difference between these techniques is that Lasso shrinks the less important feature’s coefficient to zero \n",
    "thus, removing some feature altogether. So,this works well for feature selection in case we have a huge number of features.\n",
    "*/"
   ]
  },
  {
   "cell_type": "code",
   "execution_count": null,
   "metadata": {},
   "outputs": [],
   "source": []
  },
  {
   "cell_type": "code",
   "execution_count": null,
   "metadata": {},
   "outputs": [],
   "source": []
  }
 ],
 "metadata": {
  "kernelspec": {
   "display_name": "Python 3",
   "language": "python",
   "name": "python3"
  },
  "language_info": {
   "codemirror_mode": {
    "name": "ipython",
    "version": 3
   },
   "file_extension": ".py",
   "mimetype": "text/x-python",
   "name": "python",
   "nbconvert_exporter": "python",
   "pygments_lexer": "ipython3",
   "version": "3.7.4"
  }
 },
 "nbformat": 4,
 "nbformat_minor": 2
}
