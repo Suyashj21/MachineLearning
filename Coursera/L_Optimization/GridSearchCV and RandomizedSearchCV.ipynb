{
 "cells": [
  {
   "cell_type": "code",
   "execution_count": 1,
   "metadata": {},
   "outputs": [],
   "source": [
    "import numpy as np\n",
    "import pandas as pd\n",
    "import matplotlib.pyplot as plt\n",
    "import os\n",
    "\n",
    "#importing and preparing the dataset\n",
    "dataset = pd.read_csv('https://raw.githubusercontent.com/krishnaik06/RandomizedSearchCV/master/Social_Network_Ads.csv')\n",
    "x = dataset.iloc[:,[2,3]].values\n",
    "y = dataset.iloc[:,4].values\n"
   ]
  },
  {
   "cell_type": "code",
   "execution_count": 2,
   "metadata": {},
   "outputs": [],
   "source": [
    "# Splitting the dataset into train and test set\n",
    "from sklearn.model_selection import train_test_split\n",
    "x_train, x_test, y_train, y_test = train_test_split(x,y, test_size=0.25, random_state=0)\n",
    "\n",
    "# Feature Scaling\n",
    "from sklearn.preprocessing import StandardScaler\n",
    "sc = StandardScaler()\n",
    "x_train = sc.fit_transform(x_train)\n",
    "x_test = sc.fit_transform(x_test)"
   ]
  },
  {
   "cell_type": "code",
   "execution_count": 5,
   "metadata": {},
   "outputs": [
    {
     "name": "stdout",
     "output_type": "stream",
     "text": [
      "Train Score: 0.986667\n",
      "Test Score: 0.920000\n"
     ]
    }
   ],
   "source": [
    "#Fitting Random Forest Classification to the Training Set\n",
    "from sklearn.ensemble import RandomForestClassifier\n",
    "classifier = RandomForestClassifier(n_estimators = 10, criterion = 'entropy', random_state = 50)\n",
    "classifier.fit(x_train, y_train)\n",
    "print(\"Train Score: %2f\" % classifier.score(x_train, y_train))\n",
    "yhat = classifier.predict(x_test)\n",
    "print(\"Test Score: %2f\" % classifier.score(x_test, y_test))"
   ]
  },
  {
   "cell_type": "code",
   "execution_count": 6,
   "metadata": {},
   "outputs": [],
   "source": [
    "#------- Now time for RandomizedSearchCV ----------\n",
    "from sklearn.model_selection import RandomizedSearchCV, GridSearchCV\n",
    "from scipy.stats import randint"
   ]
  },
  {
   "cell_type": "code",
   "execution_count": 7,
   "metadata": {},
   "outputs": [
    {
     "name": "stdout",
     "output_type": "stream",
     "text": [
      "best Parameters: {'bootstrap': True, 'criterion': 'entropy', 'max_depth': None, 'max_features': 1, 'min_samples_leaf': 2, 'n_estimators': 300}\n",
      "best Score 0.900000\n"
     ]
    }
   ],
   "source": [
    "clf = RandomForestClassifier(n_jobs= -1)\n",
    "rf_p_dist = {'max_depth':[3,5,10,None],\n",
    "              'n_estimators':[10,100,200,300,400,500],\n",
    "              'max_features':randint(1,3),\n",
    "               'criterion':['gini','entropy'],\n",
    "               'bootstrap':[True,False],\n",
    "               'min_samples_leaf':randint(1,4),\n",
    "            }\n",
    "\n",
    "rdmsearch = RandomizedSearchCV(clf,rf_p_dist, n_jobs= -1, cv=10, n_iter=20)\n",
    "rdmsearch.fit(x,y)\n",
    "print(\"best Parameters:\",rdmsearch.best_params_)\n",
    "print(\"best Score %2f\" %rdmsearch.best_score_)\n"
   ]
  },
  {
   "cell_type": "code",
   "execution_count": 11,
   "metadata": {},
   "outputs": [
    {
     "name": "stdout",
     "output_type": "stream",
     "text": [
      "CV Score 0.885000\n"
     ]
    }
   ],
   "source": [
    "# New Classifier with optimized hyper parameter:\n",
    "classifier_opt=RandomForestClassifier(n_jobs=-1, n_estimators=200,bootstrap= True,criterion='gini',max_depth=3,max_features=2,min_samples_leaf= 2)\n",
    "\n",
    "from sklearn.model_selection import cross_val_score\n",
    "from sklearn.metrics import confusion_matrix, accuracy_score\n",
    "\n",
    "cv_score = cross_val_score(classifier_opt,x,y,scoring=\"accuracy\",cv=10).mean()\n",
    "print(\"CV Score %2f\" %cv_score)"
   ]
  },
  {
   "cell_type": "code",
   "execution_count": 14,
   "metadata": {},
   "outputs": [
    {
     "name": "stdout",
     "output_type": "stream",
     "text": [
      "Accuracy Score 0.940000\n",
      "Confusion Matrix [[64  4]\n",
      " [ 2 30]]\n"
     ]
    }
   ],
   "source": [
    "classifier_opt.fit(x_train,y_train)\n",
    "yhat_1 = classifier_opt.predict(x_test)\n",
    "print(\"Accuracy Score %2f\" % accuracy_score(y_test,yhat_1))\n",
    "print(\"Confusion Matrix\",confusion_matrix(y_test,yhat_1))"
   ]
  },
  {
   "cell_type": "code",
   "execution_count": 26,
   "metadata": {},
   "outputs": [
    {
     "name": "stdout",
     "output_type": "stream",
     "text": [
      "Best parameters:  {'bootstrap': True, 'criterion': 'gini', 'max_depth': 3, 'min_samples_leaf': 6, 'n_estimators': 100}\n",
      "Best Score: 0.912500\n"
     ]
    }
   ],
   "source": [
    "# Calcualtion for GirdSearchCV\n",
    "from sklearn.model_selection import GridSearchCV\n",
    "\n",
    "clf = RandomForestClassifier(n_jobs= -1)\n",
    "rf_p_dist = {'max_depth':[3,5,10],\n",
    "              'n_estimators':[10,100,200,300,400,500],\n",
    "               'criterion':['gini','entropy'],\n",
    "               'bootstrap':[True,False],\n",
    "               'min_samples_leaf': [1,2,3,4,5,6],\n",
    "            }\n",
    "\n",
    "gridsearch = GridSearchCV(clf,rf_p_dist, scoring = 'accuracy', cv=10)\n",
    "gridsearch.fit(x,y)\n",
    "print(\"Best parameters: \", gridsearch.best_params_)\n",
    "print(\"Best Score: %2f\" % gridsearch.best_score_)"
   ]
  },
  {
   "cell_type": "code",
   "execution_count": null,
   "metadata": {},
   "outputs": [],
   "source": [
    "classifier_opt1=RandomForestClassifier(n_jobs=-1, n_estimators=200,bootstrap= True,criterion='gini',max_depth=3,max_features=2,min_samples_leaf= 2)\n",
    "\n",
    "from sklearn.model_selection import cross_val_score\n",
    "from sklearn.metrics import confusion_matrix, accuracy_score\n",
    "\n",
    "cv_score = corss_val_score(classifier_opt1,x,y,scoring=\"accuracy\", cv=10).mean()\n",
    "print(\"cv Score: %2f\" % cv_score)\n",
    "\n",
    "classifier_opt1.fit(x_train, y_train)\n",
    "yhat_2 = classifier_opt1.predict(x_test)\n",
    "print(\"Accuracy Score: %2f\" %accuracy_score(y_test, yhat_2))\n",
    "print(\"Confusion Matrix: \", confusion_matrix(y_test, yhat_2))"
   ]
  },
  {
   "cell_type": "code",
   "execution_count": null,
   "metadata": {},
   "outputs": [],
   "source": []
  },
  {
   "cell_type": "code",
   "execution_count": null,
   "metadata": {},
   "outputs": [],
   "source": []
  },
  {
   "cell_type": "code",
   "execution_count": null,
   "metadata": {},
   "outputs": [],
   "source": []
  }
 ],
 "metadata": {
  "kernelspec": {
   "display_name": "Python 3",
   "language": "python",
   "name": "python3"
  },
  "language_info": {
   "codemirror_mode": {
    "name": "ipython",
    "version": 3
   },
   "file_extension": ".py",
   "mimetype": "text/x-python",
   "name": "python",
   "nbconvert_exporter": "python",
   "pygments_lexer": "ipython3",
   "version": "3.7.4"
  }
 },
 "nbformat": 4,
 "nbformat_minor": 2
}
